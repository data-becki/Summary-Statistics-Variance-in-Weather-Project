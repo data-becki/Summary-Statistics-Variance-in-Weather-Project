{
 "cells": [
  {
   "cell_type": "markdown",
   "id": "39cf2624",
   "metadata": {},
   "source": [
    "# Variance in Weather"
   ]
  },
  {
   "cell_type": "markdown",
   "id": "75ec698c",
   "metadata": {},
   "source": [
    "You’re planning a trip to London and want to get a sense of the best time of the year to visit. Luckily, you got your hands on a dataset from 2015 that contains over 39,000 data points about weather conditions in London. Surely, with this much information, you can discover something useful about when to make your trip!"
   ]
  },
  {
   "cell_type": "code",
   "execution_count": 3,
   "id": "8691bc1b",
   "metadata": {},
   "outputs": [],
   "source": [
    "import pandas as pd\n",
    "import numpy as np"
   ]
  },
  {
   "cell_type": "markdown",
   "id": "4b704fc2",
   "metadata": {},
   "source": [
    "## Explore the Data"
   ]
  },
  {
   "cell_type": "markdown",
   "id": "0a748a5e",
   "metadata": {},
   "source": [
    "1. All of the weather data is stored in a variable named london_data.\n",
    "\n",
    "   Print the first few rows of the dataset by calling print(london_data.head()).\n",
    "\n",
    "    Take a look at the browser to see the columns of this dataset. Here are two questions to ask yourself:\n",
    "\n",
    "      - How often were measurements taken?\n",
    "      - Which columns might be the most useful when thinking about planning a trip.\n",
    "\n",
    "   If you want to see different rows of the data, you can try something like this:\n",
    "\n",
    "       print(london_data.iloc[100:200])\n",
    "\n",
    "   This will print rows 100 through 199."
   ]
  },
  {
   "cell_type": "code",
   "execution_count": 3,
   "id": "e3a46988",
   "metadata": {},
   "outputs": [],
   "source": [
    "# import pickle\n",
    "# london_data = pickle.load( open( \"weather.p\", \"rb\" ) )\n",
    "# from weather_data import london_data\n",
    "\n",
    "# I had to download the data directly, so I saved it in a csv and used read_csv.\n",
    "# I also looked at it in Excel, which was easier."
   ]
  },
  {
   "cell_type": "code",
   "execution_count": 4,
   "id": "c26534c3",
   "metadata": {},
   "outputs": [
    {
     "data": {
      "text/html": [
       "<div>\n",
       "<style scoped>\n",
       "    .dataframe tbody tr th:only-of-type {\n",
       "        vertical-align: middle;\n",
       "    }\n",
       "\n",
       "    .dataframe tbody tr th {\n",
       "        vertical-align: top;\n",
       "    }\n",
       "\n",
       "    .dataframe thead th {\n",
       "        text-align: right;\n",
       "    }\n",
       "</style>\n",
       "<table border=\"1\" class=\"dataframe\">\n",
       "  <thead>\n",
       "    <tr style=\"text-align: right;\">\n",
       "      <th></th>\n",
       "      <th>Unnamed: 0</th>\n",
       "      <th>Time</th>\n",
       "      <th>TemperatureC</th>\n",
       "      <th>DewpointC</th>\n",
       "      <th>PressurehPa</th>\n",
       "      <th>WindDirection</th>\n",
       "      <th>WindDirectionDegrees</th>\n",
       "      <th>WindSpeedKMH</th>\n",
       "      <th>WindSpeedGustKMH</th>\n",
       "      <th>Humidity</th>\n",
       "      <th>HourlyPrecipMM</th>\n",
       "      <th>Conditions</th>\n",
       "      <th>Clouds</th>\n",
       "      <th>dailyrainMM</th>\n",
       "      <th>SoftwareType</th>\n",
       "      <th>DateUTC</th>\n",
       "      <th>station</th>\n",
       "      <th>hour</th>\n",
       "      <th>month</th>\n",
       "    </tr>\n",
       "  </thead>\n",
       "  <tbody>\n",
       "    <tr>\n",
       "      <th>0</th>\n",
       "      <td>0</td>\n",
       "      <td>2015-01-01 00:00:00</td>\n",
       "      <td>4.6</td>\n",
       "      <td>2.9</td>\n",
       "      <td>1031.7</td>\n",
       "      <td>West</td>\n",
       "      <td>273</td>\n",
       "      <td>0.0</td>\n",
       "      <td>1.6</td>\n",
       "      <td>89</td>\n",
       "      <td>0.0</td>\n",
       "      <td>NaN</td>\n",
       "      <td>NaN</td>\n",
       "      <td>0.0</td>\n",
       "      <td>WeatherCatV1.24B11</td>\n",
       "      <td>2015-01-01 00:00:00</td>\n",
       "      <td>ILONDONL28</td>\n",
       "      <td>0</td>\n",
       "      <td>1</td>\n",
       "    </tr>\n",
       "    <tr>\n",
       "      <th>1</th>\n",
       "      <td>1</td>\n",
       "      <td>2015-01-01 00:12:00</td>\n",
       "      <td>4.5</td>\n",
       "      <td>2.8</td>\n",
       "      <td>1031.4</td>\n",
       "      <td>WNW</td>\n",
       "      <td>291</td>\n",
       "      <td>0.0</td>\n",
       "      <td>1.6</td>\n",
       "      <td>89</td>\n",
       "      <td>0.0</td>\n",
       "      <td>NaN</td>\n",
       "      <td>NaN</td>\n",
       "      <td>0.0</td>\n",
       "      <td>WeatherCatV1.24B11</td>\n",
       "      <td>2015-01-01 00:12:00</td>\n",
       "      <td>ILONDONL28</td>\n",
       "      <td>0</td>\n",
       "      <td>1</td>\n",
       "    </tr>\n",
       "    <tr>\n",
       "      <th>2</th>\n",
       "      <td>2</td>\n",
       "      <td>2015-01-01 00:27:00</td>\n",
       "      <td>4.5</td>\n",
       "      <td>2.8</td>\n",
       "      <td>1031.0</td>\n",
       "      <td>SW</td>\n",
       "      <td>229</td>\n",
       "      <td>0.0</td>\n",
       "      <td>1.6</td>\n",
       "      <td>89</td>\n",
       "      <td>0.0</td>\n",
       "      <td>NaN</td>\n",
       "      <td>NaN</td>\n",
       "      <td>0.0</td>\n",
       "      <td>WeatherCatV1.24B11</td>\n",
       "      <td>2015-01-01 00:27:00</td>\n",
       "      <td>ILONDONL28</td>\n",
       "      <td>0</td>\n",
       "      <td>1</td>\n",
       "    </tr>\n",
       "    <tr>\n",
       "      <th>3</th>\n",
       "      <td>3</td>\n",
       "      <td>2015-01-01 00:42:00</td>\n",
       "      <td>4.8</td>\n",
       "      <td>3.2</td>\n",
       "      <td>1031.7</td>\n",
       "      <td>West</td>\n",
       "      <td>281</td>\n",
       "      <td>0.0</td>\n",
       "      <td>4.8</td>\n",
       "      <td>89</td>\n",
       "      <td>0.0</td>\n",
       "      <td>NaN</td>\n",
       "      <td>NaN</td>\n",
       "      <td>0.0</td>\n",
       "      <td>WeatherCatV1.24B11</td>\n",
       "      <td>2015-01-01 00:42:00</td>\n",
       "      <td>ILONDONL28</td>\n",
       "      <td>0</td>\n",
       "      <td>1</td>\n",
       "    </tr>\n",
       "    <tr>\n",
       "      <th>4</th>\n",
       "      <td>4</td>\n",
       "      <td>2015-01-01 00:57:00</td>\n",
       "      <td>5.2</td>\n",
       "      <td>3.5</td>\n",
       "      <td>1031.4</td>\n",
       "      <td>NW</td>\n",
       "      <td>309</td>\n",
       "      <td>0.0</td>\n",
       "      <td>1.6</td>\n",
       "      <td>89</td>\n",
       "      <td>0.0</td>\n",
       "      <td>NaN</td>\n",
       "      <td>NaN</td>\n",
       "      <td>0.0</td>\n",
       "      <td>WeatherCatV1.24B11</td>\n",
       "      <td>2015-01-01 00:57:00</td>\n",
       "      <td>ILONDONL28</td>\n",
       "      <td>0</td>\n",
       "      <td>1</td>\n",
       "    </tr>\n",
       "  </tbody>\n",
       "</table>\n",
       "</div>"
      ],
      "text/plain": [
       "   Unnamed: 0                 Time  TemperatureC  DewpointC  PressurehPa  \\\n",
       "0           0  2015-01-01 00:00:00           4.6        2.9       1031.7   \n",
       "1           1  2015-01-01 00:12:00           4.5        2.8       1031.4   \n",
       "2           2  2015-01-01 00:27:00           4.5        2.8       1031.0   \n",
       "3           3  2015-01-01 00:42:00           4.8        3.2       1031.7   \n",
       "4           4  2015-01-01 00:57:00           5.2        3.5       1031.4   \n",
       "\n",
       "  WindDirection  WindDirectionDegrees  WindSpeedKMH  WindSpeedGustKMH  \\\n",
       "0          West                   273           0.0               1.6   \n",
       "1           WNW                   291           0.0               1.6   \n",
       "2            SW                   229           0.0               1.6   \n",
       "3          West                   281           0.0               4.8   \n",
       "4            NW                   309           0.0               1.6   \n",
       "\n",
       "   Humidity  HourlyPrecipMM  Conditions  Clouds  dailyrainMM  \\\n",
       "0        89             0.0         NaN     NaN          0.0   \n",
       "1        89             0.0         NaN     NaN          0.0   \n",
       "2        89             0.0         NaN     NaN          0.0   \n",
       "3        89             0.0         NaN     NaN          0.0   \n",
       "4        89             0.0         NaN     NaN          0.0   \n",
       "\n",
       "         SoftwareType              DateUTC     station  hour  month  \n",
       "0  WeatherCatV1.24B11  2015-01-01 00:00:00  ILONDONL28     0      1  \n",
       "1  WeatherCatV1.24B11  2015-01-01 00:12:00  ILONDONL28     0      1  \n",
       "2  WeatherCatV1.24B11  2015-01-01 00:27:00  ILONDONL28     0      1  \n",
       "3  WeatherCatV1.24B11  2015-01-01 00:42:00  ILONDONL28     0      1  \n",
       "4  WeatherCatV1.24B11  2015-01-01 00:57:00  ILONDONL28     0      1  "
      ]
     },
     "execution_count": 4,
     "metadata": {},
     "output_type": "execute_result"
    }
   ],
   "source": [
    "london_data = pd.read_csv('london_data.csv')\n",
    "\n",
    "# print(london_data.iloc[100:200])\n",
    "london_data.head()"
   ]
  },
  {
   "cell_type": "markdown",
   "id": "54928c6f",
   "metadata": {},
   "source": [
    "*The measurements are taken 3-4 times per hour.*\n",
    "\n",
    "*Time (Date), TemperatureC, Wind Speed, Humidity, Hourly PrecipMM (or dailyrainMM) would all be good to look at in planning a trip and basing the time you visit to your weather preferences.*"
   ]
  },
  {
   "cell_type": "markdown",
   "id": "18f4a795",
   "metadata": {},
   "source": [
    "2. Let’s also take a look at how many data points we have. Print `len(london_data)`."
   ]
  },
  {
   "cell_type": "code",
   "execution_count": 5,
   "id": "107b54a3",
   "metadata": {},
   "outputs": [
    {
     "name": "stdout",
     "output_type": "stream",
     "text": [
      "39106\n"
     ]
    }
   ],
   "source": [
    "print(len(london_data))"
   ]
  },
  {
   "cell_type": "markdown",
   "id": "0967dbc1",
   "metadata": {},
   "source": [
    "## Looking At Temperature"
   ]
  },
  {
   "cell_type": "markdown",
   "id": "7ac5b632",
   "metadata": {},
   "source": [
    "3. Now that we’ve seen what the data looks like, let’s dive into one of the more promising columns — `\"TemperatureC\"`. This column stores the temperature in Celsius.\n",
    "\n",
    "    To get a single column from a DataFrame, you can use this syntax:\n",
    "\n",
    "        one_column = london_data[\"column_name\"]\n",
    "\n",
    "    Create a variable named `temp` and set it equal to the `\"TemperatureC\"` column of `london_data`."
   ]
  },
  {
   "cell_type": "code",
   "execution_count": 6,
   "id": "3c2b8c50",
   "metadata": {},
   "outputs": [],
   "source": [
    "temp = london_data['TemperatureC']"
   ]
  },
  {
   "cell_type": "markdown",
   "id": "aa21fa30",
   "metadata": {},
   "source": [
    "4. We can now calculate descriptive statistics about this column. To begin, find the average temperature in London in 2015. Store it in a variable named `average_temp`."
   ]
  },
  {
   "cell_type": "code",
   "execution_count": 7,
   "id": "86727c66",
   "metadata": {},
   "outputs": [
    {
     "data": {
      "text/plain": [
       "12.081969518743934"
      ]
     },
     "execution_count": 7,
     "metadata": {},
     "output_type": "execute_result"
    }
   ],
   "source": [
    "average_temp = np.mean(temp)\n",
    "average_temp"
   ]
  },
  {
   "cell_type": "markdown",
   "id": "4a62f955",
   "metadata": {},
   "source": [
    "5. Calculate the variance of the temperature column and store the results in the variable `temperature_var`. Print the results."
   ]
  },
  {
   "cell_type": "code",
   "execution_count": 8,
   "id": "6d4de0ae",
   "metadata": {},
   "outputs": [
    {
     "data": {
      "text/plain": [
       "29.715642528199353"
      ]
     },
     "execution_count": 8,
     "metadata": {},
     "output_type": "execute_result"
    }
   ],
   "source": [
    "temperature_var = np.var(temp)\n",
    "temperature_var"
   ]
  },
  {
   "cell_type": "markdown",
   "id": "f9f54e0a",
   "metadata": {},
   "source": [
    "6. Calculate the standard deviation of the temperature column and store a variable named `temperature_standard_deviation`. Print this variable.\n",
    "\n",
    "    How would the variance and standard deviation help you plan a trip?"
   ]
  },
  {
   "cell_type": "code",
   "execution_count": 9,
   "id": "b275719c",
   "metadata": {},
   "outputs": [
    {
     "data": {
      "text/plain": [
       "5.4512056031853495"
      ]
     },
     "execution_count": 9,
     "metadata": {},
     "output_type": "execute_result"
    }
   ],
   "source": [
    "temperature_std = np.std(temp)\n",
    "temperature_std"
   ]
  },
  {
   "cell_type": "markdown",
   "id": "356686df",
   "metadata": {},
   "source": [
    "## Filtering By Month"
   ]
  },
  {
   "cell_type": "markdown",
   "id": "c3c6e5fb",
   "metadata": {},
   "source": [
    "7. The statistics we just calculated aren’t very helpful when trying to plan a vacation since they describe the weather throughout an entire year.\n",
    "\n",
    "    If we could find a way to use the rows from only a certain month, that might help us find the best month to plan our trip.\n",
    "\n",
    "    Once again, print `london_data.head()` to see the first few columns of our DataFrame. Which column will help us get only the data points from January? In the browser you can scroll to the right to see more columns."
   ]
  },
  {
   "cell_type": "code",
   "execution_count": 10,
   "id": "b84dcac4",
   "metadata": {},
   "outputs": [
    {
     "data": {
      "text/html": [
       "<div>\n",
       "<style scoped>\n",
       "    .dataframe tbody tr th:only-of-type {\n",
       "        vertical-align: middle;\n",
       "    }\n",
       "\n",
       "    .dataframe tbody tr th {\n",
       "        vertical-align: top;\n",
       "    }\n",
       "\n",
       "    .dataframe thead th {\n",
       "        text-align: right;\n",
       "    }\n",
       "</style>\n",
       "<table border=\"1\" class=\"dataframe\">\n",
       "  <thead>\n",
       "    <tr style=\"text-align: right;\">\n",
       "      <th></th>\n",
       "      <th>Unnamed: 0</th>\n",
       "      <th>Time</th>\n",
       "      <th>TemperatureC</th>\n",
       "      <th>DewpointC</th>\n",
       "      <th>PressurehPa</th>\n",
       "      <th>WindDirection</th>\n",
       "      <th>WindDirectionDegrees</th>\n",
       "      <th>WindSpeedKMH</th>\n",
       "      <th>WindSpeedGustKMH</th>\n",
       "      <th>Humidity</th>\n",
       "      <th>HourlyPrecipMM</th>\n",
       "      <th>Conditions</th>\n",
       "      <th>Clouds</th>\n",
       "      <th>dailyrainMM</th>\n",
       "      <th>SoftwareType</th>\n",
       "      <th>DateUTC</th>\n",
       "      <th>station</th>\n",
       "      <th>hour</th>\n",
       "      <th>month</th>\n",
       "    </tr>\n",
       "  </thead>\n",
       "  <tbody>\n",
       "    <tr>\n",
       "      <th>0</th>\n",
       "      <td>0</td>\n",
       "      <td>2015-01-01 00:00:00</td>\n",
       "      <td>4.6</td>\n",
       "      <td>2.9</td>\n",
       "      <td>1031.7</td>\n",
       "      <td>West</td>\n",
       "      <td>273</td>\n",
       "      <td>0.0</td>\n",
       "      <td>1.6</td>\n",
       "      <td>89</td>\n",
       "      <td>0.0</td>\n",
       "      <td>NaN</td>\n",
       "      <td>NaN</td>\n",
       "      <td>0.0</td>\n",
       "      <td>WeatherCatV1.24B11</td>\n",
       "      <td>2015-01-01 00:00:00</td>\n",
       "      <td>ILONDONL28</td>\n",
       "      <td>0</td>\n",
       "      <td>1</td>\n",
       "    </tr>\n",
       "    <tr>\n",
       "      <th>1</th>\n",
       "      <td>1</td>\n",
       "      <td>2015-01-01 00:12:00</td>\n",
       "      <td>4.5</td>\n",
       "      <td>2.8</td>\n",
       "      <td>1031.4</td>\n",
       "      <td>WNW</td>\n",
       "      <td>291</td>\n",
       "      <td>0.0</td>\n",
       "      <td>1.6</td>\n",
       "      <td>89</td>\n",
       "      <td>0.0</td>\n",
       "      <td>NaN</td>\n",
       "      <td>NaN</td>\n",
       "      <td>0.0</td>\n",
       "      <td>WeatherCatV1.24B11</td>\n",
       "      <td>2015-01-01 00:12:00</td>\n",
       "      <td>ILONDONL28</td>\n",
       "      <td>0</td>\n",
       "      <td>1</td>\n",
       "    </tr>\n",
       "    <tr>\n",
       "      <th>2</th>\n",
       "      <td>2</td>\n",
       "      <td>2015-01-01 00:27:00</td>\n",
       "      <td>4.5</td>\n",
       "      <td>2.8</td>\n",
       "      <td>1031.0</td>\n",
       "      <td>SW</td>\n",
       "      <td>229</td>\n",
       "      <td>0.0</td>\n",
       "      <td>1.6</td>\n",
       "      <td>89</td>\n",
       "      <td>0.0</td>\n",
       "      <td>NaN</td>\n",
       "      <td>NaN</td>\n",
       "      <td>0.0</td>\n",
       "      <td>WeatherCatV1.24B11</td>\n",
       "      <td>2015-01-01 00:27:00</td>\n",
       "      <td>ILONDONL28</td>\n",
       "      <td>0</td>\n",
       "      <td>1</td>\n",
       "    </tr>\n",
       "    <tr>\n",
       "      <th>3</th>\n",
       "      <td>3</td>\n",
       "      <td>2015-01-01 00:42:00</td>\n",
       "      <td>4.8</td>\n",
       "      <td>3.2</td>\n",
       "      <td>1031.7</td>\n",
       "      <td>West</td>\n",
       "      <td>281</td>\n",
       "      <td>0.0</td>\n",
       "      <td>4.8</td>\n",
       "      <td>89</td>\n",
       "      <td>0.0</td>\n",
       "      <td>NaN</td>\n",
       "      <td>NaN</td>\n",
       "      <td>0.0</td>\n",
       "      <td>WeatherCatV1.24B11</td>\n",
       "      <td>2015-01-01 00:42:00</td>\n",
       "      <td>ILONDONL28</td>\n",
       "      <td>0</td>\n",
       "      <td>1</td>\n",
       "    </tr>\n",
       "    <tr>\n",
       "      <th>4</th>\n",
       "      <td>4</td>\n",
       "      <td>2015-01-01 00:57:00</td>\n",
       "      <td>5.2</td>\n",
       "      <td>3.5</td>\n",
       "      <td>1031.4</td>\n",
       "      <td>NW</td>\n",
       "      <td>309</td>\n",
       "      <td>0.0</td>\n",
       "      <td>1.6</td>\n",
       "      <td>89</td>\n",
       "      <td>0.0</td>\n",
       "      <td>NaN</td>\n",
       "      <td>NaN</td>\n",
       "      <td>0.0</td>\n",
       "      <td>WeatherCatV1.24B11</td>\n",
       "      <td>2015-01-01 00:57:00</td>\n",
       "      <td>ILONDONL28</td>\n",
       "      <td>0</td>\n",
       "      <td>1</td>\n",
       "    </tr>\n",
       "  </tbody>\n",
       "</table>\n",
       "</div>"
      ],
      "text/plain": [
       "   Unnamed: 0                 Time  TemperatureC  DewpointC  PressurehPa  \\\n",
       "0           0  2015-01-01 00:00:00           4.6        2.9       1031.7   \n",
       "1           1  2015-01-01 00:12:00           4.5        2.8       1031.4   \n",
       "2           2  2015-01-01 00:27:00           4.5        2.8       1031.0   \n",
       "3           3  2015-01-01 00:42:00           4.8        3.2       1031.7   \n",
       "4           4  2015-01-01 00:57:00           5.2        3.5       1031.4   \n",
       "\n",
       "  WindDirection  WindDirectionDegrees  WindSpeedKMH  WindSpeedGustKMH  \\\n",
       "0          West                   273           0.0               1.6   \n",
       "1           WNW                   291           0.0               1.6   \n",
       "2            SW                   229           0.0               1.6   \n",
       "3          West                   281           0.0               4.8   \n",
       "4            NW                   309           0.0               1.6   \n",
       "\n",
       "   Humidity  HourlyPrecipMM  Conditions  Clouds  dailyrainMM  \\\n",
       "0        89             0.0         NaN     NaN          0.0   \n",
       "1        89             0.0         NaN     NaN          0.0   \n",
       "2        89             0.0         NaN     NaN          0.0   \n",
       "3        89             0.0         NaN     NaN          0.0   \n",
       "4        89             0.0         NaN     NaN          0.0   \n",
       "\n",
       "         SoftwareType              DateUTC     station  hour  month  \n",
       "0  WeatherCatV1.24B11  2015-01-01 00:00:00  ILONDONL28     0      1  \n",
       "1  WeatherCatV1.24B11  2015-01-01 00:12:00  ILONDONL28     0      1  \n",
       "2  WeatherCatV1.24B11  2015-01-01 00:27:00  ILONDONL28     0      1  \n",
       "3  WeatherCatV1.24B11  2015-01-01 00:42:00  ILONDONL28     0      1  \n",
       "4  WeatherCatV1.24B11  2015-01-01 00:57:00  ILONDONL28     0      1  "
      ]
     },
     "execution_count": 10,
     "metadata": {},
     "output_type": "execute_result"
    }
   ],
   "source": [
    "london_data.head()\n",
    "# the 'month' column will help us get only the data points from January"
   ]
  },
  {
   "cell_type": "markdown",
   "id": "a629da5d",
   "metadata": {},
   "source": [
    "8. We want to filter by the \"month\" column! The following line of code will create a variable that gets the temperature from the rows where \"month\" is 6. These will be all of the rows from the month of June.\n",
    "\n",
    "        june = london_data.loc[london_data[\"month\"] == 6][\"TemperatureC\"]\n",
    "\n",
    "    Create this variable for June."
   ]
  },
  {
   "cell_type": "code",
   "execution_count": 11,
   "id": "0e48e2fd",
   "metadata": {},
   "outputs": [],
   "source": [
    "june = london_data.loc[london_data[\"month\"] == 6][\"TemperatureC\"]"
   ]
  },
  {
   "cell_type": "markdown",
   "id": "27d2c6b8",
   "metadata": {},
   "source": [
    "9. Create a variable named `july` that contains all of the data points from July. The code to do this should look very similar to your code that created the June variable. This time, we’re interested in month 7."
   ]
  },
  {
   "cell_type": "code",
   "execution_count": 12,
   "id": "f2b8ef26",
   "metadata": {},
   "outputs": [],
   "source": [
    "july = london_data.loc[london_data[\"month\"] == 7][\"TemperatureC\"]"
   ]
  },
  {
   "cell_type": "markdown",
   "id": "689e8164",
   "metadata": {},
   "source": [
    "10. Calculate and print the mean temperature in London for both June and July using the `np.mean() `function.\n",
    "\n",
    "    What do these numbers tell you? If you wanted to visit London on the month that was, on average, cooler, which month would you pick?"
   ]
  },
  {
   "cell_type": "code",
   "execution_count": 13,
   "id": "c96a9105",
   "metadata": {},
   "outputs": [
    {
     "name": "stdout",
     "output_type": "stream",
     "text": [
      "The mean temperature in June is 17.047289251018462.\n",
      "\n",
      "The mean temperature in July is 18.775608907446074.\n",
      "\n"
     ]
    }
   ],
   "source": [
    "print(\"The mean temperature in June is \" + str(np.mean(june)) + \".\\n\")\n",
    "print(\"The mean temperature in July is \" + str(np.mean(july)) + \".\\n\")\n",
    "\n",
    "#  june"
   ]
  },
  {
   "cell_type": "markdown",
   "id": "5c89707d",
   "metadata": {},
   "source": [
    "11. Calculate and print the standard deviation of temperature in London for both June and July. Remember, the function you should use is `np.std()`.\n",
    "\n",
    "    What do these numbers tell you? How might the standard deviation change your decision on when to visit London? Click on the hint to see our thoughts."
   ]
  },
  {
   "cell_type": "code",
   "execution_count": 14,
   "id": "b5544240",
   "metadata": {},
   "outputs": [
    {
     "name": "stdout",
     "output_type": "stream",
     "text": [
      "The mean standard deviation in temperature in June is 4.597909204651791.\n",
      "\n",
      "The mean standard deviation in temperature in July is 4.136377318662126.\n",
      "\n"
     ]
    }
   ],
   "source": [
    "print(\"The mean standard deviation in temperature in June is \" + str(np.std(june)) + \".\\n\")\n",
    "print(\"The mean standard deviation in temperature in July is \" + str(np.std(july)) + \".\\n\")"
   ]
  },
  {
   "cell_type": "markdown",
   "id": "009d927a",
   "metadata": {},
   "source": [
    "*July has more consistent temps, June has a larger range of temps, so you have a better chance of getting a cooler day in June.*"
   ]
  },
  {
   "cell_type": "markdown",
   "id": "465f68fd",
   "metadata": {},
   "source": [
    "12. If you want to quickly see the mean and standard deviation of every month, use this block of code.\n",
    "\n",
    "        for i in range(1, 13):\n",
    "          month = london_data.loc[london_data[\"month\"] == i][\"TemperatureC\"]\n",
    "          print(\"The mean temperature in month \"+str(i) +\" is \"+ str(np.mean(month)))\n",
    "          print(\"The standard deviation of temperature in month \"+str(i) +\" is \"+ str(np.std(month)) +\"\\n\")\n",
    "\n",
    "    During which month would you most like to visit? If you wanted to pick the month with the least variable temperature, which one would you pick?"
   ]
  },
  {
   "cell_type": "code",
   "execution_count": 24,
   "id": "36ef72bb",
   "metadata": {},
   "outputs": [
    {
     "name": "stdout",
     "output_type": "stream",
     "text": [
      "The mean temperature in month 1 is 5.7\n",
      "The standard deviation of temperature in month 1 is 3.6\n",
      "\n",
      "The mean temperature in month 2 is 5.1\n",
      "The standard deviation of temperature in month 2 is 2.7\n",
      "\n",
      "The mean temperature in month 3 is 7.9\n",
      "The standard deviation of temperature in month 3 is 2.7\n",
      "\n",
      "The mean temperature in month 4 is 10.6\n",
      "The standard deviation of temperature in month 4 is 4.1\n",
      "\n",
      "The mean temperature in month 5 is 13.6\n",
      "The standard deviation of temperature in month 5 is 3.5\n",
      "\n",
      "The mean temperature in month 6 is 17.0\n",
      "The standard deviation of temperature in month 6 is 4.6\n",
      "\n",
      "The mean temperature in month 7 is 18.8\n",
      "The standard deviation of temperature in month 7 is 4.1\n",
      "\n",
      "The mean temperature in month 8 is 18.0\n",
      "The standard deviation of temperature in month 8 is 3.5\n",
      "\n",
      "The mean temperature in month 9 is 13.8\n",
      "The standard deviation of temperature in month 9 is 3.0\n",
      "\n",
      "The mean temperature in month 10 is 12.0\n",
      "The standard deviation of temperature in month 10 is 3.1\n",
      "\n",
      "The mean temperature in month 11 is 10.8\n",
      "The standard deviation of temperature in month 11 is 3.7\n",
      "\n",
      "The mean temperature in month 12 is 11.3\n",
      "The standard deviation of temperature in month 12 is 2.4\n",
      "\n"
     ]
    }
   ],
   "source": [
    "for i in range(1, 13):\n",
    "    month = london_data.loc[london_data[\"month\"] == i][\"TemperatureC\"]\n",
    "    print(\"The mean temperature in month \"+str(i) +\" is \"+ str(round(np.mean(month),1)))\n",
    "    print(\"The standard deviation of temperature in month \"+str(i) +\" is \"\n",
    "          + str(round(np.std(month),1)) +\"\\n\")"
   ]
  },
  {
   "cell_type": "markdown",
   "id": "480608dc",
   "metadata": {},
   "source": [
    "## Explore on Your Own"
   ]
  },
  {
   "cell_type": "markdown",
   "id": "896148f3",
   "metadata": {},
   "source": [
    "13. By looking at the mean and standard deviation of the temperature in London during each month of the year, we can get a sense of the best time to visit.\n",
    "\n",
    "    Looking at the spread of the data is an important statistic to consider if you are particularly sensitive to extreme days. For example, if you pick a month with a large standard deviation, you might have one day that is relatively cold while the following day is very hot.\n",
    "\n",
    "    Take some time to see if you can find more insights in this dataset. Here are some ideas we have for you:\n",
    "\n",
    "    -    Look at columns other than \"TemperatureC\". Can you find something interesting about the humidity or the air pressure? Can you find the rainiest month? London is notoriously rainy!\n",
    "    -    Filter based on\"hour\". Similar to how you filtered based on the month, are there certain hours that have higher variance than others?"
   ]
  },
  {
   "cell_type": "code",
   "execution_count": 16,
   "id": "0270b672",
   "metadata": {},
   "outputs": [
    {
     "data": {
      "text/plain": [
       "Index(['Unnamed: 0', 'Time', 'TemperatureC', 'DewpointC', 'PressurehPa',\n",
       "       'WindDirection', 'WindDirectionDegrees', 'WindSpeedKMH',\n",
       "       'WindSpeedGustKMH', 'Humidity', 'HourlyPrecipMM', 'Conditions',\n",
       "       'Clouds', 'dailyrainMM', 'SoftwareType', 'DateUTC', 'station', 'hour',\n",
       "       'month'],\n",
       "      dtype='object')"
      ]
     },
     "execution_count": 16,
     "metadata": {},
     "output_type": "execute_result"
    }
   ],
   "source": [
    "london_data.columns"
   ]
  },
  {
   "cell_type": "code",
   "execution_count": 25,
   "id": "30428b33",
   "metadata": {
    "scrolled": false
   },
   "outputs": [
    {
     "name": "stdout",
     "output_type": "stream",
     "text": [
      "The mean precipitation in month 1 is 0.77 mm.\n",
      "The standard deviation of precipitation in month 1 is 3.09 mm.\n",
      "\n",
      "The mean precipitation in month 2 is 0.04 mm.\n",
      "The standard deviation of precipitation in month 2 is 0.22 mm.\n",
      "\n",
      "The mean precipitation in month 3 is 0.24 mm.\n",
      "The standard deviation of precipitation in month 3 is 1.1 mm.\n",
      "\n",
      "The mean precipitation in month 4 is 0.34 mm.\n",
      "The standard deviation of precipitation in month 4 is 1.02 mm.\n",
      "\n",
      "The mean precipitation in month 5 is 0.4 mm.\n",
      "The standard deviation of precipitation in month 5 is 1.57 mm.\n",
      "\n",
      "The mean precipitation in month 6 is 0.29 mm.\n",
      "The standard deviation of precipitation in month 6 is 1.24 mm.\n",
      "\n",
      "The mean precipitation in month 7 is 0.76 mm.\n",
      "The standard deviation of precipitation in month 7 is 3.16 mm.\n",
      "\n",
      "The mean precipitation in month 8 is 1.24 mm.\n",
      "The standard deviation of precipitation in month 8 is 4.57 mm.\n",
      "\n",
      "The mean precipitation in month 9 is 1.14 mm.\n",
      "The standard deviation of precipitation in month 9 is 3.91 mm.\n",
      "\n",
      "The mean precipitation in month 10 is 0.57 mm.\n",
      "The standard deviation of precipitation in month 10 is 2.2 mm.\n",
      "\n",
      "The mean precipitation in month 11 is 1.26 mm.\n",
      "The standard deviation of precipitation in month 11 is 2.27 mm.\n",
      "\n",
      "The mean precipitation in month 12 is 0.74 mm.\n",
      "The standard deviation of precipitation in month 12 is 1.23 mm.\n",
      "\n"
     ]
    }
   ],
   "source": [
    "for i in range(1, 13):\n",
    "    month = london_data.loc[london_data[\"month\"] == i]['dailyrainMM']\n",
    "    print(\"The mean precipitation in month \"+str(i) +\" is \"+ str(round(np.mean(month),2)) + \" mm.\")\n",
    "    print(\"The standard deviation of precipitation in month \"+str(i) +\" is \"\n",
    "          + str(round(np.std(month),2)) + \" mm.\" + \"\\n\")\n",
    "\n",
    "# These numbers seem low. It would be nice to verify the units."
   ]
  },
  {
   "cell_type": "code",
   "execution_count": 27,
   "id": "b6b3ea2f",
   "metadata": {
    "scrolled": true
   },
   "outputs": [
    {
     "name": "stdout",
     "output_type": "stream",
     "text": [
      "The mean humidity in month 1 is 83.35%.\n",
      "The standard deviation of humidity in month 1 is 8.87\n",
      "\n",
      "The mean humidity in month 2 is 82.58%.\n",
      "The standard deviation of humidity in month 2 is 9.62\n",
      "\n",
      "The mean humidity in month 3 is 73.09%.\n",
      "The standard deviation of humidity in month 3 is 13.78\n",
      "\n",
      "The mean humidity in month 4 is 70.25%.\n",
      "The standard deviation of humidity in month 4 is 15.99\n",
      "\n",
      "The mean humidity in month 5 is 66.75%.\n",
      "The standard deviation of humidity in month 5 is 14.85\n",
      "\n",
      "The mean humidity in month 6 is 65.55%.\n",
      "The standard deviation of humidity in month 6 is 15.88\n",
      "\n",
      "The mean humidity in month 7 is 67.96%.\n",
      "The standard deviation of humidity in month 7 is 16.61\n",
      "\n",
      "The mean humidity in month 8 is 76.03%.\n",
      "The standard deviation of humidity in month 8 is 15.81\n",
      "\n",
      "The mean humidity in month 9 is 79.83%.\n",
      "The standard deviation of humidity in month 9 is 13.17\n",
      "\n",
      "The mean humidity in month 10 is 86.31%.\n",
      "The standard deviation of humidity in month 10 is 10.05\n",
      "\n",
      "The mean humidity in month 11 is 86.8%.\n",
      "The standard deviation of humidity in month 11 is 8.23\n",
      "\n",
      "The mean humidity in month 12 is 84.92%.\n",
      "The standard deviation of humidity in month 12 is 7.27\n",
      "\n"
     ]
    }
   ],
   "source": [
    "for i in range(1, 13):\n",
    "    month = london_data.loc[london_data[\"month\"] == i]['Humidity']\n",
    "    print(\"The mean humidity in month \"+str(i) +\" is \"+ str(round(np.mean(month),2)) + \"%.\")\n",
    "    print(\"The standard deviation of humidity in month \"+str(i) +\" is \"+ str(round(np.std(month),2))\n",
    "          + \"\\n\")\n",
    "    "
   ]
  },
  {
   "cell_type": "code",
   "execution_count": 29,
   "id": "13da3207",
   "metadata": {},
   "outputs": [
    {
     "name": "stdout",
     "output_type": "stream",
     "text": [
      "The mean temperature in hour 1 is 10.0\n",
      "The standard deviation of temperature in hour 1 is 4.3\n",
      "\n",
      "The mean temperature in hour 2 is 9.7\n",
      "The standard deviation of temperature in hour 2 is 4.3\n",
      "\n",
      "The mean temperature in hour 3 is 9.6\n",
      "The standard deviation of temperature in hour 3 is 4.3\n",
      "\n",
      "The mean temperature in hour 4 is 9.5\n",
      "The standard deviation of temperature in hour 4 is 4.3\n",
      "\n",
      "The mean temperature in hour 5 is 9.6\n",
      "The standard deviation of temperature in hour 5 is 4.5\n",
      "\n",
      "The mean temperature in hour 6 is 10.0\n",
      "The standard deviation of temperature in hour 6 is 4.9\n",
      "\n",
      "The mean temperature in hour 7 is 10.8\n",
      "The standard deviation of temperature in hour 7 is 5.2\n",
      "\n",
      "The mean temperature in hour 8 is 11.7\n",
      "The standard deviation of temperature in hour 8 is 5.3\n",
      "\n",
      "The mean temperature in hour 9 is 12.6\n",
      "The standard deviation of temperature in hour 9 is 5.5\n",
      "\n",
      "The mean temperature in hour 10 is 13.4\n",
      "The standard deviation of temperature in hour 10 is 5.6\n",
      "\n",
      "The mean temperature in hour 11 is 14.1\n",
      "The standard deviation of temperature in hour 11 is 5.6\n",
      "\n",
      "The mean temperature in hour 12 is 14.5\n",
      "The standard deviation of temperature in hour 12 is 5.7\n",
      "\n",
      "The mean temperature in hour 13 is 14.9\n",
      "The standard deviation of temperature in hour 13 is 5.7\n",
      "\n",
      "The mean temperature in hour 14 is 15.0\n",
      "The standard deviation of temperature in hour 14 is 5.8\n",
      "\n",
      "The mean temperature in hour 15 is 14.8\n",
      "The standard deviation of temperature in hour 15 is 5.9\n",
      "\n",
      "The mean temperature in hour 16 is 14.5\n",
      "The standard deviation of temperature in hour 16 is 5.9\n",
      "\n",
      "The mean temperature in hour 17 is 13.9\n",
      "The standard deviation of temperature in hour 17 is 5.8\n",
      "\n",
      "The mean temperature in hour 18 is 13.1\n",
      "The standard deviation of temperature in hour 18 is 5.3\n",
      "\n",
      "The mean temperature in hour 19 is 12.5\n",
      "The standard deviation of temperature in hour 19 is 5.0\n",
      "\n",
      "The mean temperature in hour 20 is 12.0\n",
      "The standard deviation of temperature in hour 20 is 4.8\n",
      "\n",
      "The mean temperature in hour 21 is 11.4\n",
      "The standard deviation of temperature in hour 21 is 4.6\n",
      "\n",
      "The mean temperature in hour 22 is 11.0\n",
      "The standard deviation of temperature in hour 22 is 4.5\n",
      "\n"
     ]
    }
   ],
   "source": [
    "for i in range(1, 23):\n",
    "    hour = london_data.loc[london_data['hour'] == i][\"TemperatureC\"]\n",
    "    print(\"The mean temperature in hour \"+str(i) +\" is \"+ str(round(np.mean(hour),1)))\n",
    "    print(\"The standard deviation of temperature in hour \"+str(i) +\" is \"\n",
    "          + str(round(np.std(hour),1)) +\"\\n\")"
   ]
  },
  {
   "cell_type": "code",
   "execution_count": null,
   "id": "1c6e2280",
   "metadata": {},
   "outputs": [],
   "source": []
  }
 ],
 "metadata": {
  "kernelspec": {
   "display_name": "Python 3 (ipykernel)",
   "language": "python",
   "name": "python3"
  },
  "language_info": {
   "codemirror_mode": {
    "name": "ipython",
    "version": 3
   },
   "file_extension": ".py",
   "mimetype": "text/x-python",
   "name": "python",
   "nbconvert_exporter": "python",
   "pygments_lexer": "ipython3",
   "version": "3.9.7"
  }
 },
 "nbformat": 4,
 "nbformat_minor": 5
}
